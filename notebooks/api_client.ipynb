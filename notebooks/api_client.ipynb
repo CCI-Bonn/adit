{
 "cells": [
  {
   "cell_type": "code",
   "execution_count": null,
   "metadata": {},
   "outputs": [],
   "source": [
    "# Connect to ADIT's DICOM Web API (dev server) using pure requests\n",
    "\n",
    "import os\n",
    "\n",
    "import requests\n",
    "from dotenv import dotenv_values\n",
    "\n",
    "config = dotenv_values(\"../.env.dev\")\n",
    "\n",
    "os.environ[\"no_proxy\"] = config[\"SITE_DOMAIN\"]\n",
    "\n",
    "url = f\"{config['SITE_BASE_URL']}/api/dicom-web/SynV4DicomSCP/qidors/studies?ModalitiesInStudy=SR&StudyDate=20240101&StudyTime=000000+-+235959\"\n",
    "\n",
    "token = config[\"ADMIN_AUTH_TOKEN\"]\n",
    "\n",
    "response = requests.get(\n",
    "    url,\n",
    "    headers={\n",
    "        \"Accept\": \"application/dicom+json\",\n",
    "        \"Authorization\": f\"Token {token}\",\n",
    "    },\n",
    ")\n",
    "\n",
    "response.content"
   ]
  },
  {
   "cell_type": "code",
   "execution_count": null,
   "metadata": {},
   "outputs": [],
   "source": [
    "# Connect to ADIT's DICOM Web API (dev server) using pure requests\n",
    "\n",
    "import os\n",
    "\n",
    "import requests\n",
    "from dotenv import dotenv_values\n",
    "\n",
    "config = dotenv_values(\"../.env.prod\")\n",
    "\n",
    "os.environ[\"no_proxy\"] = config[\"SITE_DOMAIN\"]\n",
    "\n",
    "url = f\"{config['SITE_BASE_URL']}/api/dicom-web/SynV4DicomSCP/qidors/studies?ModalitiesInStudy=SR&StudyDate=20240101&StudyTime=000000+-+235959\"\n",
    "\n",
    "token = config.get(\"ADMIN_AUTH_TOKEN\", \"YOUR_ADMIN_AUTH_TOKEN_HERE\")\n",
    "\n",
    "response = requests.get(\n",
    "    url,\n",
    "    headers={\"Accept\": \"application/dicom+json\", \"Authorization\": f\"Token {token}\"},\n",
    "    verify=False,\n",
    ")\n",
    "\n",
    "response.content"
   ]
  }
 ],
 "metadata": {
  "kernelspec": {
   "display_name": ".venv",
   "language": "python",
   "name": "python3"
  },
  "language_info": {
   "codemirror_mode": {
    "name": "ipython",
    "version": 3
   },
   "file_extension": ".py",
   "mimetype": "text/x-python",
   "name": "python",
   "nbconvert_exporter": "python",
   "pygments_lexer": "ipython3",
   "version": "3.11.4"
  }
 },
 "nbformat": 4,
 "nbformat_minor": 2
}

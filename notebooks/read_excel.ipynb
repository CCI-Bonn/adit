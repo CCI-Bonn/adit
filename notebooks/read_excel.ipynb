{
 "cells": [
  {
   "cell_type": "code",
   "execution_count": 1,
   "metadata": {},
   "outputs": [
    {
     "name": "stdout",
     "output_type": "stream",
     "text": [
      "0    1945-04-27 00:00:00\n",
      "1                   <NA>\n",
      "2                   <NA>\n",
      "3    1976-08-29 00:00:00\n",
      "Name: PatientBirthDate, dtype: string\n",
      "True\n"
     ]
    }
   ],
   "source": [
    "# https://pandas.pydata.org/docs/user_guide/text.html\n",
    "# https://pandas.pydata.org/docs/user_guide/missing_data.html\n",
    "\n",
    "import pandas as pd\n",
    "\n",
    "types = {\n",
    "    \"PatientID\": \"string\",\n",
    "    \"PatientBirthDate\": \"datetime64[ns]\",\n",
    "}\n",
    "\n",
    "df = pd.read_excel(\"samples/batch_query_sample.xlsx\", dtype=\"string\")\n",
    "\n",
    "print(df[\"PatientID\"])\n",
    "# print(pd.isna(df[\"Patient\"][1]))"
   ]
  },
  {
   "cell_type": "code",
   "execution_count": 18,
   "metadata": {},
   "outputs": [
    {
     "name": "stdout",
     "output_type": "stream",
     "text": [
      "PatientID\n",
      "PatientBirthDate\n",
      "  PatientID     PatientBirthDate\n",
      "0   111      1975-08-31 00:00:00\n",
      "1       222           31.08.1975\n"
     ]
    }
   ],
   "source": [
    "import pandas as pd\n",
    "from io import BytesIO\n",
    "from datetime import datetime\n",
    "\n",
    "df = pd.DataFrame(\n",
    "    [\n",
    "        [\"111    \", datetime(1975, 8, 31)],\n",
    "        [\"222\", \"31.08.1975\"],\n",
    "        # [\"333\", \"31.08.1975\"],\n",
    "    ],\n",
    "    columns=[\"PatientID\", \"PatientBirthDate\"],\n",
    ")\n",
    "\n",
    "batch_file = BytesIO()\n",
    "df.to_excel(batch_file, index=False, engine=\"openpyxl\")\n",
    "\n",
    "types = {\n",
    "    \"PatientID\": \"string\",\n",
    "    \"PatientBirthDate\": \"datetime64[ns]\",\n",
    "}\n",
    "\n",
    "df = pd.read_excel(batch_file, dtype=\"string\", engine=\"openpyxl\")\n",
    "\n",
    "\n",
    "for label in df.columns:\n",
    "    print(label)\n",
    "    # df[label] = df[label].str.strip()\n",
    "\n",
    "print(df)\n"
   ]
  },
  {
   "cell_type": "code",
   "execution_count": 7,
   "metadata": {},
   "outputs": [
    {
     "ename": "RuntimeError",
     "evalue": "Settings already configured.",
     "output_type": "error",
     "traceback": [
      "\u001b[0;31m---------------------------------------------------------------------------\u001b[0m",
      "\u001b[0;31mRuntimeError\u001b[0m                              Traceback (most recent call last)",
      "Cell \u001b[0;32mIn[7], line 4\u001b[0m\n\u001b[1;32m      1\u001b[0m \u001b[39mfrom\u001b[39;00m \u001b[39mrest_framework\u001b[39;00m \u001b[39mimport\u001b[39;00m serializers\n\u001b[1;32m      2\u001b[0m \u001b[39mfrom\u001b[39;00m \u001b[39mdjango\u001b[39;00m\u001b[39m.\u001b[39;00m\u001b[39mconf\u001b[39;00m \u001b[39mimport\u001b[39;00m settings\n\u001b[0;32m----> 4\u001b[0m settings\u001b[39m.\u001b[39;49mconfigure()\n\u001b[1;32m      6\u001b[0m \u001b[39mclass\u001b[39;00m \u001b[39mBatchSerializer\u001b[39;00m(serializers\u001b[39m.\u001b[39mSerializer):\n\u001b[1;32m      7\u001b[0m     date \u001b[39m=\u001b[39m serializers\u001b[39m.\u001b[39mDateField()\n",
      "File \u001b[0;32m/workspaces/adit/.venv/lib/python3.10/site-packages/django/conf/__init__.py:139\u001b[0m, in \u001b[0;36mLazySettings.configure\u001b[0;34m(self, default_settings, **options)\u001b[0m\n\u001b[1;32m    133\u001b[0m \u001b[39m\u001b[39m\u001b[39m\"\"\"\u001b[39;00m\n\u001b[1;32m    134\u001b[0m \u001b[39mCalled to manually configure the settings. The 'default_settings'\u001b[39;00m\n\u001b[1;32m    135\u001b[0m \u001b[39mparameter sets where to retrieve any unspecified values from (its\u001b[39;00m\n\u001b[1;32m    136\u001b[0m \u001b[39margument must support attribute access (__getattr__)).\u001b[39;00m\n\u001b[1;32m    137\u001b[0m \u001b[39m\"\"\"\u001b[39;00m\n\u001b[1;32m    138\u001b[0m \u001b[39mif\u001b[39;00m \u001b[39mself\u001b[39m\u001b[39m.\u001b[39m_wrapped \u001b[39mis\u001b[39;00m \u001b[39mnot\u001b[39;00m empty:\n\u001b[0;32m--> 139\u001b[0m     \u001b[39mraise\u001b[39;00m \u001b[39mRuntimeError\u001b[39;00m(\u001b[39m\"\u001b[39m\u001b[39mSettings already configured.\u001b[39m\u001b[39m\"\u001b[39m)\n\u001b[1;32m    140\u001b[0m holder \u001b[39m=\u001b[39m UserSettingsHolder(default_settings)\n\u001b[1;32m    141\u001b[0m \u001b[39mfor\u001b[39;00m name, value \u001b[39min\u001b[39;00m options\u001b[39m.\u001b[39mitems():\n",
      "\u001b[0;31mRuntimeError\u001b[0m: Settings already configured."
     ]
    }
   ],
   "source": [
    "from rest_framework import serializers\n",
    "from django.conf import settings\n",
    "\n",
    "settings.configure()\n",
    "\n",
    "class BatchSerializer(serializers.Serializer):\n",
    "    date = serializers.DateField()\n",
    "\n",
    "serializer = BatchSerializer(data={\"date\": \"31.08.1975\"})\n",
    "print(serializer.is_valid())"
   ]
  },
  {
   "cell_type": "code",
   "execution_count": 8,
   "metadata": {},
   "outputs": [],
   "source": [
    "\n",
    "import os, sys\n",
    "import django\n",
    "PROJECT_PATH = '../adit'\n",
    "sys.path.insert(0, PROJECT_PATH)\n",
    "os.environ.setdefault(\"DJANGO_SETTINGS_MODULE\", \"adit.settings.development\")\n",
    "os.environ[\"DJANGO_ALLOW_ASYNC_UNSAFE\"] = \"true\"  # https://docs.djangoproject.com/en/4.1/topics/async/#async-safety\n",
    "os.chdir(PROJECT_PATH)\n",
    "django.setup()"
   ]
  },
  {
   "cell_type": "code",
   "execution_count": 21,
   "metadata": {},
   "outputs": [
    {
     "name": "stdout",
     "output_type": "stream",
     "text": [
      "True\n",
      "OrderedDict([('date', datetime.date(1975, 8, 31))])\n"
     ]
    }
   ],
   "source": [
    "from rest_framework import serializers\n",
    "from datetime import datetime\n",
    "\n",
    "class BatchSerializer(serializers.Serializer):\n",
    "    date = serializers.DateField(format=\"%Y-%m-%d %H:%M:%S\")\n",
    "\n",
    "# serializer = BatchSerializer(data={\"date\": \"1975-08-31 00:00:00\"})\n",
    "serializer = BatchSerializer(data={\"date\": datetime(1975, 8, 31).date()})\n",
    "print(serializer.is_valid())\n",
    "print(serializer.validated_data)"
   ]
  },
  {
   "cell_type": "code",
   "execution_count": 12,
   "metadata": {},
   "outputs": [
    {
     "name": "stdout",
     "output_type": "stream",
     "text": [
      "1975-08-31\n"
     ]
    }
   ],
   "source": [
    "import re\n",
    "\n",
    "match = re.match(r\"^(\\d{4}-\\d{2}-\\d{2}) \\d{2}:\\d{2}:\\d{2}$\", \"1975-08-31 00:00:00\")\n",
    "if match:\n",
    "    print(match.group(1))"
   ]
  }
 ],
 "metadata": {
  "kernelspec": {
   "display_name": ".venv",
   "language": "python",
   "name": "python3"
  },
  "language_info": {
   "codemirror_mode": {
    "name": "ipython",
    "version": 3
   },
   "file_extension": ".py",
   "mimetype": "text/x-python",
   "name": "python",
   "nbconvert_exporter": "python",
   "pygments_lexer": "ipython3",
   "version": "3.10.11"
  },
  "orig_nbformat": 4
 },
 "nbformat": 4,
 "nbformat_minor": 2
}
